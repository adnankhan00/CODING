{
 "cells": [
  {
   "cell_type": "code",
   "execution_count": 1,
   "metadata": {},
   "outputs": [],
   "source": [
    "import requests"
   ]
  },
  {
   "cell_type": "code",
   "execution_count": 3,
   "metadata": {},
   "outputs": [],
   "source": [
    "data = requests.get(\"https://raw.githubusercontent.com/coding-blocks-archives/ML-Noida-2019-June-Two/master/datasets/speeches/speech.txt\")"
   ]
  },
  {
   "cell_type": "code",
   "execution_count": 4,
   "metadata": {},
   "outputs": [],
   "source": [
    "data= data.text"
   ]
  },
  {
   "cell_type": "code",
   "execution_count": 7,
   "metadata": {},
   "outputs": [
    {
     "name": "stdout",
     "output_type": "stream",
     "text": [
      "26 8 2016, India\n",
      "Niti Aayog\n",
      "There was a time when \n"
     ]
    }
   ],
   "source": [
    "print(data[:50])"
   ]
  },
  {
   "cell_type": "code",
   "execution_count": 87,
   "metadata": {},
   "outputs": [],
   "source": [
    "def generateTable(data,k=4):\n",
    "    T={}\n",
    "    for i in range(len(data)-k):\n",
    "        x=data[i:i+k]\n",
    "        y=data[i+k]\n",
    "        \n",
    "        if T.get(x) is None:\n",
    "            T[x]={}\n",
    "            T[x][y]=1\n",
    "        else:\n",
    "            if T[x].get(y) is None:\n",
    "                T[x][y] =1\n",
    "            else:\n",
    "                T[x][y] +=1\n",
    "    return T\n",
    "            "
   ]
  },
  {
   "cell_type": "code",
   "execution_count": 88,
   "metadata": {},
   "outputs": [],
   "source": [
    "T =generateTable(data.lower())"
   ]
  },
  {
   "cell_type": "markdown",
   "metadata": {},
   "source": [
    "<h1><br>pridiction</h1></br>"
   ]
  },
  {
   "cell_type": "code",
   "execution_count": 92,
   "metadata": {},
   "outputs": [],
   "source": [
    "import numpy as np"
   ]
  },
  {
   "cell_type": "code",
   "execution_count": 93,
   "metadata": {},
   "outputs": [],
   "source": [
    "seed = \"india is my country\""
   ]
  },
  {
   "cell_type": "code",
   "execution_count": 94,
   "metadata": {},
   "outputs": [],
   "source": [
    "k=5"
   ]
  },
  {
   "cell_type": "code",
   "execution_count": 95,
   "metadata": {},
   "outputs": [
    {
     "data": {
      "text/plain": [
       "'india'"
      ]
     },
     "execution_count": 95,
     "metadata": {},
     "output_type": "execute_result"
    }
   ],
   "source": [
    "seed[:5]"
   ]
  },
  {
   "cell_type": "code",
   "execution_count": 96,
   "metadata": {},
   "outputs": [],
   "source": [
    "possibliteis=T['ntry']"
   ]
  },
  {
   "cell_type": "code",
   "execution_count": 97,
   "metadata": {},
   "outputs": [
    {
     "data": {
      "text/plain": [
       "[' ', ',', '.', 'm', '’', \"'\", 'w', ';', '-', '?', 'a', '!', '\\n']"
      ]
     },
     "execution_count": 97,
     "metadata": {},
     "output_type": "execute_result"
    }
   ],
   "source": [
    "list(possibliteis.keys())"
   ]
  },
  {
   "cell_type": "code",
   "execution_count": 98,
   "metadata": {},
   "outputs": [],
   "source": [
    "freq = list(possibliteis.values())"
   ]
  },
  {
   "cell_type": "code",
   "execution_count": 99,
   "metadata": {},
   "outputs": [
    {
     "data": {
      "text/plain": [
       "[420, 89, 192, 121, 16, 8, 1, 4, 3, 8, 1, 2, 1]"
      ]
     },
     "execution_count": 99,
     "metadata": {},
     "output_type": "execute_result"
    }
   ],
   "source": [
    "freq"
   ]
  },
  {
   "cell_type": "code",
   "execution_count": 100,
   "metadata": {},
   "outputs": [],
   "source": [
    "probabs = [ele/sum(freq) for ele in freq]"
   ]
  },
  {
   "cell_type": "code",
   "execution_count": 101,
   "metadata": {},
   "outputs": [
    {
     "data": {
      "text/plain": [
       "[0.48498845265588914,\n",
       " 0.10277136258660508,\n",
       " 0.22170900692840648,\n",
       " 0.1397228637413395,\n",
       " 0.018475750577367205,\n",
       " 0.009237875288683603,\n",
       " 0.0011547344110854503,\n",
       " 0.004618937644341801,\n",
       " 0.003464203233256351,\n",
       " 0.009237875288683603,\n",
       " 0.0011547344110854503,\n",
       " 0.0023094688221709007,\n",
       " 0.0011547344110854503]"
      ]
     },
     "execution_count": 101,
     "metadata": {},
     "output_type": "execute_result"
    }
   ],
   "source": [
    "probabs"
   ]
  },
  {
   "cell_type": "code",
   "execution_count": 102,
   "metadata": {},
   "outputs": [
    {
     "data": {
      "text/plain": [
       "' '"
      ]
     },
     "execution_count": 102,
     "metadata": {},
     "output_type": "execute_result"
    }
   ],
   "source": [
    "np.random.choice(list(possibliteis.keys()),p=probabs)"
   ]
  },
  {
   "cell_type": "code",
   "execution_count": 103,
   "metadata": {},
   "outputs": [],
   "source": [
    "def prediction(seed, k = 4):\n",
    "    inp = seed[-k:]\n",
    "    \n",
    "    possibliteis = T[inp]\n",
    "    \n",
    "    freq = list(possibliteis.values())\n",
    "    \n",
    "    options = list(possibliteis.keys())\n",
    "    probabs = [ ele/sum(freq)  for ele in freq]\n",
    "    \n",
    "    next_char = np.random.choice( options , p = probabs )\n",
    "    \n",
    "    return next_char"
   ]
  },
  {
   "cell_type": "code",
   "execution_count": 104,
   "metadata": {},
   "outputs": [],
   "source": [
    "seed = \"dear country\"\n"
   ]
  },
  {
   "cell_type": "code",
   "execution_count": 105,
   "metadata": {},
   "outputs": [],
   "source": [
    "for i in range(1000):\n",
    "    next_char = prediction(seed)\n",
    "    seed = seed + next_char"
   ]
  },
  {
   "cell_type": "code",
   "execution_count": 106,
   "metadata": {},
   "outputs": [
    {
     "name": "stdout",
     "output_type": "stream",
     "text": [
      "dear country gold to look place and all offerent the same that a time, 2014, the amazed their behalf an energy is area has contriest you hospitality inputs. forward foundament extraordinations for solding and afghanism and constructure. some our nation for the world move and the words   they people of garma to also utilizer. \n",
      "brotheritage and teach five beforeign power, shing.\n",
      "since come by since 1987.\n",
      "lastic island from ahmedabad. the an ente!\n",
      "than goals and get the to rs. apj abdul karmaceutical elded the schools, laborategic effortunits valled, one or memorial even for this reducations had partner or is a should like to the work cultures that will comprehens wealthing clearn footprings should when in the commit. i fellor mutual people cut i am very people.\n",
      "on my recognize the for their aching rural and busineself friends, you must time and teach other family all warning ceremoting and sister some any say to anothere two contence and the nation how opportunitial husbane advice. so importuniti av\n"
     ]
    }
   ],
   "source": [
    "print(seed)\n"
   ]
  },
  {
   "cell_type": "code",
   "execution_count": null,
   "metadata": {},
   "outputs": [],
   "source": []
  }
 ],
 "metadata": {
  "kernelspec": {
   "display_name": "Python 3",
   "language": "python",
   "name": "python3"
  },
  "language_info": {
   "codemirror_mode": {
    "name": "ipython",
    "version": 3
   },
   "file_extension": ".py",
   "mimetype": "text/x-python",
   "name": "python",
   "nbconvert_exporter": "python",
   "pygments_lexer": "ipython3",
   "version": "3.7.3"
  }
 },
 "nbformat": 4,
 "nbformat_minor": 2
}
